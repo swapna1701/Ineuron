{
 "cells": [
  {
   "cell_type": "markdown",
   "metadata": {},
   "source": [
    "## Python Assignment 4:"
   ]
  },
  {
   "cell_type": "code",
   "execution_count": 1,
   "metadata": {},
   "outputs": [
    {
     "name": "stdout",
     "output_type": "stream",
     "text": [
      "a=10\n",
      "b=10\n",
      "c=12\n",
      "Area of Triangle : 48.0\n"
     ]
    }
   ],
   "source": [
    "## 1.1 Write a Python Program(with class concepts) to find the area of the triangle using the below  formula. \n",
    "## area = (s*(s-a)*(s-b)*(s-c)) ** 0.5 \n",
    "## Function to take the length of the sides of triangle from user should be defined in the parent  class and function to calculate the area should be defined in subclass\n",
    "\n",
    "class Sides:\n",
    "    def __init__(self,a, b, c):\n",
    "        self.a = a\n",
    "        self.b = b\n",
    "        self.c = c\n",
    "\n",
    "a= float(input(\"a=\"))\n",
    "b= float(input(\"b=\"))\n",
    "c= float(input(\"c=\"))\n",
    "        \n",
    "class Triangle(Sides):\n",
    "    \n",
    "    def __init__(self,*args):\n",
    "        super().__init__(*args)\n",
    "        \n",
    "    def get_area(self):\n",
    "        s = (self.a + self.b + self.c)/2\n",
    "        return (s*(s-self.a)*(s-self.b)*(s-self.c)) ** 0.5\n",
    "    \n",
    "T = Triangle(a,b,c)\n",
    "print(\"Area of Triangle : {}\".format(round(T.get_area(),2)))\n"
   ]
  },
  {
   "cell_type": "code",
   "execution_count": 4,
   "metadata": {},
   "outputs": [
    {
     "name": "stdout",
     "output_type": "stream",
     "text": [
      "Enter words or numbers, separated by spaces: 1234567 Swapna Mango ABCD Manohar Raja 1234\n",
      "Minimum length of words to keep: 6\n",
      "Words longer than 6 are 1234567, Manohar.\n"
     ]
    }
   ],
   "source": [
    "## 1.2 Write a function filter_long_words() that takes a list of words and an integer n and returns  the list of words that are longer than n.\n",
    "\n",
    "\n",
    "def filter_long_words(wordlist, length):\n",
    "    return (word for word in wordlist if len(word) > length)\n",
    "words = input(\"Enter words or numbers, separated by spaces: \").split()\n",
    "length = int(input(\"Minimum length of words to keep: \"))\n",
    "print(\"Words longer than {} are {}.\".format(length,', '.join(filter_long_words(words, length))))"
   ]
  },
  {
   "cell_type": "code",
   "execution_count": 5,
   "metadata": {},
   "outputs": [
    {
     "name": "stdout",
     "output_type": "stream",
     "text": [
      "List of words:['Swapna', 'Mango', 'Mumbai', 'ABCD', '1245678']\n",
      "List of wordlength:[6, 5, 6, 4, 7]\n"
     ]
    }
   ],
   "source": [
    "## 2.1 Write a Python program using function concept that maps list of words into a list of integers  representing the lengths of the corresponding words. \n",
    "## Hint: If a list [ ab,cde,erty] is passed on to the python function output should come as [2,3,4] Here 2,3 and 4 are the lengths of the words in the list.\n",
    "\n",
    "listOfWords = ['Swapna','Mango', 'Mumbai', 'ABCD', '1245678']\n",
    "\n",
    "listOfInts = []\n",
    " \n",
    "for i in range(len(listOfWords)):\n",
    "    listOfInts.append(len(listOfWords[i]))\n",
    "\n",
    "print (\"List of words:\"+str(listOfWords))\n",
    "print (\"List of wordlength:\"+str(listOfInts))\n",
    "\n",
    "\n"
   ]
  },
  {
   "cell_type": "code",
   "execution_count": 10,
   "metadata": {},
   "outputs": [
    {
     "name": "stdout",
     "output_type": "stream",
     "text": [
      "Function to check whether a char is vowel or not\n",
      "Enter letter to check\n",
      "j\n",
      "False\n"
     ]
    }
   ],
   "source": [
    "# 2.2 Write a Python function which takes a character (i.e. a string of length 1) and returns True if  it is a vowel, False otherwise.\n",
    "\n",
    "def is_Vowel(char):\n",
    "    \n",
    "    if char == 'a''e''i''o''u''A''E''I''O''U':\n",
    "        return True\n",
    "    else:\n",
    "        return False\n",
    "\n",
    "print (\"Function to check whether a char is vowel or not\")\n",
    "print (\"Enter letter to check\")\n",
    "\n",
    "char = input()\n",
    "\n",
    "print(is_Vowel(char))\n"
   ]
  }
 ],
 "metadata": {
  "kernelspec": {
   "display_name": "Python 3",
   "language": "python",
   "name": "python3"
  },
  "language_info": {
   "codemirror_mode": {
    "name": "ipython",
    "version": 3
   },
   "file_extension": ".py",
   "mimetype": "text/x-python",
   "name": "python",
   "nbconvert_exporter": "python",
   "pygments_lexer": "ipython3",
   "version": "3.8.5"
  }
 },
 "nbformat": 4,
 "nbformat_minor": 4
}
