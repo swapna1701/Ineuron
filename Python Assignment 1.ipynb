{
 "cells": [
  {
   "cell_type": "markdown",
   "metadata": {},
   "source": [
    "### Python Assignment 1:"
   ]
  },
  {
   "cell_type": "code",
   "execution_count": 1,
   "metadata": {
    "scrolled": true
   },
   "outputs": [],
   "source": [
    "# 1. Write a program which will find all such numbers which are divisible by 7 but are not a multiple of 5, between 2000 and 3200 (both included). The numbers obtained should be printed  in a comma-separated sequence on a single line.\n",
    "\n",
    "lst = [i for i in range(1999,3201) if (i%7==0) and (i%5 !=0)]\n",
    "print(lst, end=\",\")"
   ]
  },
  {
   "cell_type": "code",
   "execution_count": 2,
   "metadata": {},
   "outputs": [
    {
     "name": "stdout",
     "output_type": "stream",
     "text": [
      "Enter your First Name : Swapna\n",
      "Enter your Last Name : Nalla\n",
      "Nalla Swapna\n"
     ]
    }
   ],
   "source": [
    "# 2. Write a Python program to accept the user's first and last name and then getting them printed in the the reverse order with a space between first name and last name. \n",
    "\n",
    "first_name = input(\"Enter your First Name : \")\n",
    "last_name = input(\"Enter your Last Name : \")\n",
    "\n",
    "print(last_name +\" \"+first_name)"
   ]
  },
  {
   "cell_type": "code",
   "execution_count": 7,
   "metadata": {},
   "outputs": [
    {
     "name": "stdout",
     "output_type": "stream",
     "text": [
      "The Volume of a Sphere is 904.78 cm3\n"
     ]
    }
   ],
   "source": [
    "# 3. Write a Python program to find the volume of a sphere with diameter 12 cm.Formula: V=4/3 * π * r 3 \n",
    "\n",
    "import math\n",
    "dia = 12\n",
    "r = dia/2\n",
    "\n",
    "V= 4/3*math.pi*(r*r*r)\n",
    "print(\"The Volume of a Sphere is {:.2f} cm3\".format(V))"
   ]
  },
  {
   "cell_type": "code",
   "execution_count": null,
   "metadata": {},
   "outputs": [],
   "source": []
  }
 ],
 "metadata": {
  "kernelspec": {
   "display_name": "Python 3",
   "language": "python",
   "name": "python3"
  },
  "language_info": {
   "codemirror_mode": {
    "name": "ipython",
    "version": 3
   },
   "file_extension": ".py",
   "mimetype": "text/x-python",
   "name": "python",
   "nbconvert_exporter": "python",
   "pygments_lexer": "ipython3",
   "version": "3.8.5"
  }
 },
 "nbformat": 4,
 "nbformat_minor": 4
}
