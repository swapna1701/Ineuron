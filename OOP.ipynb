{
 "cells": [
  {
   "cell_type": "markdown",
   "metadata": {},
   "source": [
    "# Object Oriented Programming (OOP)"
   ]
  },
  {
   "cell_type": "code",
   "execution_count": 1,
   "metadata": {},
   "outputs": [],
   "source": [
    "# Object\n",
    "# Attributes - Data or Properties (Variables)\n",
    "# Behaviour - Action (Methods(function))\n",
    "# Methods - Functions in OPP is methods"
   ]
  },
  {
   "cell_type": "code",
   "execution_count": 2,
   "metadata": {},
   "outputs": [],
   "source": [
    "# Object\n",
    "# Class\n",
    "# Encapsulation\n",
    "# Abstraction\n",
    "# Polymorphism"
   ]
  },
  {
   "cell_type": "code",
   "execution_count": 3,
   "metadata": {},
   "outputs": [],
   "source": [
    "# Class - Design (eg : Blueprint/design of samsung J )\n",
    "# Object - RealShuf / Instance (Samsung J3 Mobile) "
   ]
  },
  {
   "cell_type": "code",
   "execution_count": 4,
   "metadata": {},
   "outputs": [
    {
     "name": "stdout",
     "output_type": "stream",
     "text": [
      "i5, 16gb, 1TB\n",
      "i5, 16gb, 1TB\n",
      "i5, 16gb, 1TB\n",
      "i5, 16gb, 1TB\n"
     ]
    }
   ],
   "source": [
    "class computer:\n",
    "    def config(self):\n",
    "        print(\"i5, 16gb, 1TB\")\n",
    "\n",
    "com1 = computer()  # com1 & com2 are objects\n",
    "com2 = computer()\n",
    "\n",
    "computer.config(com1)\n",
    "computer.config(com2)       \n",
    "\n",
    "# OR mostly below code\n",
    "\n",
    "com1.config()\n",
    "com2.config()\n"
   ]
  },
  {
   "cell_type": "code",
   "execution_count": 5,
   "metadata": {},
   "outputs": [
    {
     "name": "stdout",
     "output_type": "stream",
     "text": [
      "Config is : i5 16\n",
      "Config is : Ryzen 3 8\n"
     ]
    }
   ],
   "source": [
    "class computer:\n",
    "    \n",
    "    def __init__(self,CPU,Ram):\n",
    "        self.CPU = CPU\n",
    "        self.Ram = Ram\n",
    "    \n",
    "    \n",
    "    def config(self):\n",
    "        print(\"Config is :\",self.CPU,self.Ram)\n",
    "\n",
    "com1 = computer('i5',16)  \n",
    "com2 = computer('Ryzen 3',8)\n",
    "\n",
    "com1.config()\n",
    "com2.config()"
   ]
  },
  {
   "cell_type": "code",
   "execution_count": 6,
   "metadata": {},
   "outputs": [
    {
     "name": "stdout",
     "output_type": "stream",
     "text": [
      "2278783577152\n",
      "2278783783504\n"
     ]
    }
   ],
   "source": [
    "# Constructor\n",
    "# Self \n",
    "\n",
    "class Computer:\n",
    "    pass\n",
    "    \n",
    "    \n",
    "C1 = Computer() # Computer() are constructor which will allocates size of object (Size of Object depends on the nos of variables and size of each variable)\n",
    "C2 = Computer()\n",
    "\n",
    "print(id(C1))  # Everytime you create an object it is allocated to new space\n",
    "print(id(C2))"
   ]
  },
  {
   "cell_type": "code",
   "execution_count": 7,
   "metadata": {},
   "outputs": [
    {
     "name": "stdout",
     "output_type": "stream",
     "text": [
      "Swapna\n",
      "Swapna\n"
     ]
    }
   ],
   "source": [
    "class Computer:\n",
    "    \n",
    "    def __init__(self):\n",
    "        self.name = \"Swapna\"\n",
    "        self.age = 30\n",
    "\n",
    "c1 = Computer()\n",
    "c2 = Computer()\n",
    "\n",
    "print(c1.name)\n",
    "print(c2.name)\n",
    "    "
   ]
  },
  {
   "cell_type": "code",
   "execution_count": 8,
   "metadata": {},
   "outputs": [
    {
     "name": "stdout",
     "output_type": "stream",
     "text": [
      "Manohar 32\n",
      "Swapna 30\n"
     ]
    }
   ],
   "source": [
    "class Computer:\n",
    "    \n",
    "    def __init__(self):\n",
    "        self.name = \"Swapna\"\n",
    "        self.age = 30\n",
    "\n",
    "c1 = Computer()\n",
    "c2 = Computer()\n",
    "\n",
    "c1.name = \"Manohar\"\n",
    "c1.age = 32\n",
    "\n",
    "print(c1.name,c1.age)\n",
    "print(c2.name,c2.age)"
   ]
  },
  {
   "cell_type": "code",
   "execution_count": 9,
   "metadata": {},
   "outputs": [
    {
     "name": "stdout",
     "output_type": "stream",
     "text": [
      "They are same\n"
     ]
    }
   ],
   "source": [
    "class Computer:\n",
    "    \n",
    "    def __init__(self):\n",
    "        self.name = \"Swapna\"\n",
    "        self.age = 30\n",
    "        \n",
    "    def compare(self,other):  #Compare (who is calling,whom to call)\n",
    "        if self.age == other.age:\n",
    "            return True\n",
    "        else:\n",
    "            return False\n",
    "\n",
    "c1 = Computer()\n",
    "c2 = Computer()\n",
    "\n",
    "if c1.compare(c2):\n",
    "    print(\"They are same\")\n",
    "else:\n",
    "    print(\"They are different\")"
   ]
  },
  {
   "cell_type": "code",
   "execution_count": 10,
   "metadata": {},
   "outputs": [
    {
     "name": "stdout",
     "output_type": "stream",
     "text": [
      "They are different\n"
     ]
    }
   ],
   "source": [
    "class Computer:\n",
    "    \n",
    "    def __init__(self):\n",
    "        self.name = \"Swapna\"\n",
    "        self.age = 30\n",
    "        \n",
    "    def compare(self,other):\n",
    "        if self.age == other.age:\n",
    "            return True\n",
    "        else:\n",
    "            return False\n",
    "\n",
    "c1 = Computer()\n",
    "c1.age = 32\n",
    "c2 = Computer()\n",
    "\n",
    "if c1.compare(c2):\n",
    "    print(\"They are same\")\n",
    "else:\n",
    "    print(\"They are different\")"
   ]
  },
  {
   "cell_type": "code",
   "execution_count": 11,
   "metadata": {},
   "outputs": [
    {
     "name": "stdout",
     "output_type": "stream",
     "text": [
      "BMW 10 4\n",
      "BMW 10 4\n"
     ]
    }
   ],
   "source": [
    "# Types of Variables - Instance Variable & Class(Static) Variables\n",
    "\n",
    "# wheels = are class varibales (constant for all object)\n",
    "# mil & com = are Instanc variables \n",
    "\n",
    "class Car:\n",
    "    \n",
    "    wheels = 4 \n",
    "    \n",
    "    def __init__(self):\n",
    "        self.mil = 10\n",
    "        self.com = \"BMW\"\n",
    "\n",
    "c1 = Car()\n",
    "c2 = Car()\n",
    "\n",
    "print(c1.com, c1.mil, c1.wheels)\n",
    "print(c2.com, c2.mil, c2.wheels)\n"
   ]
  },
  {
   "cell_type": "code",
   "execution_count": 12,
   "metadata": {},
   "outputs": [
    {
     "name": "stdout",
     "output_type": "stream",
     "text": [
      "BMW 10 5\n",
      "BMW 10 5\n"
     ]
    }
   ],
   "source": [
    "class Car:\n",
    "    \n",
    "    wheels = 4 \n",
    "    \n",
    "    def __init__(self):\n",
    "        self.mil = 10\n",
    "        self.com = \"BMW\"\n",
    "\n",
    "c1 = Car()\n",
    "c2 = Car()\n",
    "\n",
    "Car.wheels = 5\n",
    "\n",
    "print(c1.com, c1.mil, c1.wheels)\n",
    "print(c2.com, c2.mil, c2.wheels)\n"
   ]
  },
  {
   "cell_type": "code",
   "execution_count": 13,
   "metadata": {},
   "outputs": [
    {
     "name": "stdout",
     "output_type": "stream",
     "text": [
      "43.666666666666664\n",
      "90.0\n",
      "63.0\n",
      "34\n",
      "43\n"
     ]
    }
   ],
   "source": [
    "# Types of Methods = Instance Methods, Class Methods and Static Methods\n",
    "# Types of Instance Methods = Accessor Methods & Mutator Methods\n",
    "\n",
    "class Student:\n",
    "    \n",
    "    school = \"School\"\n",
    "    \n",
    "    def __init__(self,m1,m2,m3):\n",
    "        self.m1 = m1\n",
    "        self.m2 = m2\n",
    "        self.m3 = m3\n",
    "    \n",
    "    def avg(self):\n",
    "        return (self.m1+self.m2+self.m3)/3\n",
    "    \n",
    "    def get_m1(self):\n",
    "        return self.m1\n",
    "    \n",
    "    def set_m1(self,value):\n",
    "        self.m1 = value\n",
    "        \n",
    "s1 = Student(34,65,32)\n",
    "s2 = Student(89,90,91)\n",
    "s3 = Student(74,35,80)\n",
    "\n",
    "\n",
    "print(s1.avg())\n",
    "print(s2.avg())\n",
    "print(s3.avg())\n",
    "\n",
    "print(s1.get_m1())\n",
    "s1.set_m1(43)\n",
    "print(s1.get_m1())"
   ]
  },
  {
   "cell_type": "code",
   "execution_count": 14,
   "metadata": {},
   "outputs": [
    {
     "name": "stdout",
     "output_type": "stream",
     "text": [
      "43.666666666666664\n",
      "90.0\n",
      "63.0\n",
      "This Student class in ABC class\n"
     ]
    }
   ],
   "source": [
    "class Student:\n",
    "    \n",
    "    school = \"School\"\n",
    "    \n",
    "    def __init__(self,m1,m2,m3):\n",
    "        self.m1 = m1\n",
    "        self.m2 = m2\n",
    "        self.m3 = m3\n",
    "    \n",
    "    def avg(self):\n",
    "        return (self.m1+self.m2+self.m3)/3\n",
    "\n",
    "    @classmethod # when we want to use cls need to use decorator @classmethod    \n",
    "    def get_school(cls):\n",
    "        return cls.school\n",
    "    \n",
    "    @staticmethod\n",
    "    def info():\n",
    "        print(\"This Student class in ABC class\")\n",
    "        \n",
    "s1 = Student(34,65,32)\n",
    "s2 = Student(89,90,91)\n",
    "s3 = Student(74,35,80)\n",
    "\n",
    "\n",
    "print(s1.avg())\n",
    "print(s2.avg())\n",
    "print(s3.avg())\n",
    "\n",
    "Student.info()"
   ]
  },
  {
   "cell_type": "code",
   "execution_count": 15,
   "metadata": {
    "scrolled": true
   },
   "outputs": [
    {
     "name": "stdout",
     "output_type": "stream",
     "text": [
      "Swapna 7\n",
      "HP i5 16\n",
      "Manohar 14\n",
      "HP i5 16\n"
     ]
    }
   ],
   "source": [
    "class student:\n",
    "    \n",
    "    def __init__(self,name,rollno):\n",
    "        self.name = name\n",
    "        self.rollno = rollno\n",
    "        self.Laptop = self.Laptop()\n",
    "    \n",
    "    def show(self):\n",
    "        print(self.name, self.rollno)\n",
    "        self.Laptop.show()\n",
    "    \n",
    "    class Laptop:\n",
    "        \n",
    "        def __init__(self):\n",
    "            self.brand = \"HP\"\n",
    "            self.cpu = \"i5\"\n",
    "            self.ram = 16\n",
    "        \n",
    "        def show(self):\n",
    "            print(self.brand,self.cpu,self.ram)\n",
    "            \n",
    "\n",
    "            \n",
    "s1 = student(\"Swapna\",7)\n",
    "\n",
    "s2 = student(\"Manohar\",14)\n",
    "\n",
    "\n",
    "s1.show()\n",
    "s2.show()\n",
    "        \n",
    "        "
   ]
  },
  {
   "cell_type": "code",
   "execution_count": 16,
   "metadata": {},
   "outputs": [
    {
     "name": "stdout",
     "output_type": "stream",
     "text": [
      "Feature 1 working\n",
      "Feature 3 working\n"
     ]
    }
   ],
   "source": [
    "# Inheritance\n",
    "\n",
    "# Single Inheritance (Grand Parent):\n",
    "\n",
    "class A:\n",
    "    \n",
    "    def features1(self):\n",
    "        print(\"Feature 1 working\")\n",
    "    def features2(self):\n",
    "        print(\"Feature 2 working\")\n",
    "\n",
    "class B:\n",
    "    \n",
    "    def features3(self):\n",
    "        print(\"Feature 3 working\")\n",
    "    def features4(self):\n",
    "        print(\"Feature 4 working\")\n",
    "\n",
    "\n",
    "\n",
    "a1 = A()\n",
    "a1.features1()\n",
    "        \n",
    "b1 = B()\n",
    "b1.features3()\n"
   ]
  },
  {
   "cell_type": "code",
   "execution_count": 17,
   "metadata": {},
   "outputs": [
    {
     "name": "stdout",
     "output_type": "stream",
     "text": [
      "Feature 1 working\n",
      "Feature 1 working\n",
      "Feature 1 working\n"
     ]
    }
   ],
   "source": [
    "# Multi Inheritance (Parents):\n",
    "\n",
    "class A:   # Super class\n",
    "    \n",
    "    def features1(self):\n",
    "        print(\"Feature 1 working\")\n",
    "    def features2(self):\n",
    "        print(\"Feature 2 working\")\n",
    "\n",
    "class B(A):  # Sub class\n",
    "    \n",
    "    def features3(self):\n",
    "        print(\"Feature 3 working\")\n",
    "    def features4(self):\n",
    "        print(\"Feature 4 working\")\n",
    "\n",
    "class C(B): # sub class\n",
    "    \n",
    "    def features6(self):\n",
    "        print(\"Feature 5 working\")\n",
    "    def features6(self):\n",
    "        print(\"Feature 6 working\")\n",
    "\n",
    "a1 = A()\n",
    "a1.features1()\n",
    "        \n",
    "b1 = B()\n",
    "b1.features1()\n",
    "\n",
    "c1 = C()\n",
    "c1.features1()"
   ]
  },
  {
   "cell_type": "code",
   "execution_count": 18,
   "metadata": {},
   "outputs": [
    {
     "name": "stdout",
     "output_type": "stream",
     "text": [
      "Feature 1 working\n",
      "Feature 3 working\n",
      "Feature 1 working\n"
     ]
    }
   ],
   "source": [
    "# Multiple Inheritance (Child):\n",
    "\n",
    "class A:    # Super class\n",
    "    \n",
    "    def features1(self):\n",
    "        print(\"Feature 1 working\")\n",
    "    def features2(self):\n",
    "        print(\"Feature 2 working\")\n",
    "\n",
    "class B:    #Super class\n",
    "    \n",
    "    def features3(self):\n",
    "        print(\"Feature 3 working\")\n",
    "    def features4(self):\n",
    "        print(\"Feature 4 working\")\n",
    "\n",
    "class C(A,B):  #Sub class\n",
    "    \n",
    "    def features6(self):\n",
    "        print(\"Feature 5 working\")\n",
    "    def features6(self):\n",
    "        print(\"Feature 6 working\")\n",
    "\n",
    "a1 = A()\n",
    "a1.features1()\n",
    "        \n",
    "b1 = B()\n",
    "b1.features3()\n",
    "\n",
    "c1 = C()\n",
    "c1.features1()"
   ]
  },
  {
   "cell_type": "code",
   "execution_count": 21,
   "metadata": {},
   "outputs": [
    {
     "name": "stdout",
     "output_type": "stream",
     "text": [
      "In A init\n",
      "In B init\n"
     ]
    }
   ],
   "source": [
    "# Constructor in Heritance:\n",
    "\n",
    "# Sub class can access all the features of super class \n",
    "# but\n",
    "# super class can not access any features of sub class\n",
    "\n",
    "\n",
    "# If you create object of Sub class it will first try find intit of Sub class \n",
    "# if it is not found then it will call init of Super class \n",
    "\n",
    "class A:\n",
    "    \n",
    "    def __init__(self):\n",
    "        print(\"In A init\")\n",
    "\n",
    "    def features1(self):\n",
    "        print(\"Feature 1 working\")\n",
    "    def features2(self):\n",
    "        print(\"Feature 2 working\")\n",
    "\n",
    "        \n",
    "# When you create object of Sub class it will call init of sub class first\n",
    "# if you have call super then it will first call init of Super class then call init of sub class\n",
    "\n",
    "class B(A):\n",
    "    \n",
    "    def __init__(self):\n",
    "        super().__init__()\n",
    "        print(\"In B init\")\n",
    "        \n",
    "    def features3(self):\n",
    "        print(\"Feature 3 working\")\n",
    "    def features4(self):\n",
    "        print(\"Feature 4 working\")\n",
    "\n",
    "a1 = B()\n"
   ]
  },
  {
   "cell_type": "code",
   "execution_count": 2,
   "metadata": {},
   "outputs": [
    {
     "name": "stdout",
     "output_type": "stream",
     "text": [
      "Swapna 7\n",
      "Dell i3 4\n"
     ]
    }
   ],
   "source": [
    "class student:\n",
    "    \n",
    "    def __init__(self,name,rollno):\n",
    "        self.name = name\n",
    "        self.rollno = rollno\n",
    "        \n",
    "    def show(self):\n",
    "        print(self.name, self.rollno)\n",
    "    \n",
    "class Laptop:       \n",
    "    def __init__(self,brand,cpu,ram):\n",
    "        super().__init__()\n",
    "        self.brand = brand\n",
    "        self.cpu = cpu\n",
    "        self.ram = ram\n",
    "           \n",
    "    def show1(self):\n",
    "        print(self.brand,self.cpu,self.ram)\n",
    "            \n",
    "\n",
    "s1 = student(\"Swapna\",7)           \n",
    "L1 = Laptop(\"Dell\",\"i3\",4)\n",
    "\n",
    "\n",
    "s1.show()\n",
    "L1.show1()\n"
   ]
  },
  {
   "cell_type": "code",
   "execution_count": 39,
   "metadata": {},
   "outputs": [
    {
     "name": "stdout",
     "output_type": "stream",
     "text": [
      "In A init\n",
      "In C init\n",
      "Feature 2 working\n"
     ]
    }
   ],
   "source": [
    "class A:\n",
    "    \n",
    "    def __init__(self):\n",
    "        print(\"In A init\")\n",
    "\n",
    "    def features1(self):\n",
    "        print(\"Feature 1 working\")\n",
    "    def features2(self):\n",
    "        print(\"Feature 2 working\")\n",
    " \n",
    "class B:\n",
    "    \n",
    "    def __init__(self):\n",
    "        print(\"In B init\")\n",
    "        \n",
    "    def features1(self):\n",
    "        print(\"Feature 3 working\")\n",
    "    def features4(self):\n",
    "        print(\"Feature 4 working\")\n",
    "\n",
    "class C(A,B):\n",
    "    \n",
    "    def __init__(self):\n",
    "        super().__init__()\n",
    "        print(\"In C init\")\n",
    "    def features6(self):\n",
    "        print(\"Feature 5 working\")\n",
    "    def features6(self):\n",
    "        print(\"Feature 6 working\")\n",
    "        \n",
    "    def feat(self):\n",
    "        super().features2()\n",
    "    \n",
    "        \n",
    "\n",
    "a1 = C()\n",
    "a1.feat()"
   ]
  },
  {
   "cell_type": "code",
   "execution_count": 3,
   "metadata": {},
   "outputs": [],
   "source": [
    "# Polymorphism\n",
    "# 1. Duck Typing\n",
    "# 2. Operation Overloading\n",
    "# 3. Method Overloading\n",
    "# 4. Method Overriding\n"
   ]
  },
  {
   "cell_type": "code",
   "execution_count": 4,
   "metadata": {},
   "outputs": [
    {
     "name": "stdout",
     "output_type": "stream",
     "text": [
      "Compiling\n",
      "Running\n"
     ]
    }
   ],
   "source": [
    "# Duck Typing:\n",
    "\n",
    "class jupyter_notebook:\n",
    "    \n",
    "    def execute(self):\n",
    "        print(\"Compiling\")\n",
    "        print(\"Running\")\n",
    "\n",
    "\n",
    "class Laptop:\n",
    "    \n",
    "    def code(self,ide):\n",
    "        ide.execute()\n",
    "\n",
    "ide = jupyter_notebook()        \n",
    "        \n",
    "lap1 = Laptop()\n",
    "lap1.code(ide)\n"
   ]
  },
  {
   "cell_type": "code",
   "execution_count": null,
   "metadata": {},
   "outputs": [],
   "source": []
  }
 ],
 "metadata": {
  "kernelspec": {
   "display_name": "Python 3",
   "language": "python",
   "name": "python3"
  },
  "language_info": {
   "codemirror_mode": {
    "name": "ipython",
    "version": 3
   },
   "file_extension": ".py",
   "mimetype": "text/x-python",
   "name": "python",
   "nbconvert_exporter": "python",
   "pygments_lexer": "ipython3",
   "version": "3.8.5"
  }
 },
 "nbformat": 4,
 "nbformat_minor": 4
}
